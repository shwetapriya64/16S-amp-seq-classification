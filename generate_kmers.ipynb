{
  "nbformat": 4,
  "nbformat_minor": 0,
  "metadata": {
    "colab": {
      "provenance": [],
      "authorship_tag": "ABX9TyMgn0+6mbypiP8LWtkct1Ik",
      "include_colab_link": true
    },
    "kernelspec": {
      "name": "python3",
      "display_name": "Python 3"
    },
    "language_info": {
      "name": "python"
    }
  },
  "cells": [
    {
      "cell_type": "markdown",
      "metadata": {
        "id": "view-in-github",
        "colab_type": "text"
      },
      "source": [
        "<a href=\"https://colab.research.google.com/github/shwetapriya64/16S-amp-seq-classification/blob/k-mer_embedding/generate_kmers.ipynb\" target=\"_parent\"><img src=\"https://colab.research.google.com/assets/colab-badge.svg\" alt=\"Open In Colab\"/></a>"
      ]
    },
    {
      "cell_type": "code",
      "source": [],
      "metadata": {
        "id": "BsxUA46RhNiU"
      },
      "execution_count": null,
      "outputs": []
    },
    {
      "cell_type": "markdown",
      "source": [
        "### **Generate k-mer file of 16S DNA sequences **"
      ],
      "metadata": {
        "id": "whuBJAP4hXs4"
      }
    },
    {
      "cell_type": "code",
      "source": [
        "from google.colab import drive\n",
        "drive.mount(\"/content/gdrive\", force_remount=True)\n",
        "%cd /content/gdrive/MyDrive/Datasets/Bac_16s_data/"
      ],
      "metadata": {
        "id": "sIy_lQpPTxWK"
      },
      "execution_count": null,
      "outputs": []
    },
    {
      "cell_type": "code",
      "execution_count": null,
      "metadata": {
        "id": "E_0UUsXIFEOX"
      },
      "outputs": [],
      "source": [
        "##import libraries\n",
        "import gzip\n",
        "import shutil\n",
        "import pandas as pd\n",
        "import numpy as np\n",
        "from Bio import SeqIO\n",
        "import sys\n",
        "import re\n",
        "import os\n",
        "import io\n",
        "import math\n",
        "from itertools import product\n",
        "import six.moves.cPickle\n",
        "import random\n",
        "import gensim\n",
        "#from gensim.models import Word2Vec\n",
        "#from gensim.models.word2vec import LineSentence\n"
      ]
    },
    {
      "cell_type": "code",
      "source": [
        "#install biopython to read fasta/fastq files\n",
        "pip install biopython"
      ],
      "metadata": {
        "id": "jlkrYa51gwNT"
      },
      "execution_count": null,
      "outputs": []
    },
    {
      "cell_type": "code",
      "execution_count": null,
      "metadata": {
        "id": "PSVIGVwIFOdT"
      },
      "outputs": [],
      "source": [
        "\n",
        "#import training file to be used to create k-mer embedding-matrix and train word2vec model\n",
        "input_file = 'trainset18_062020.fa' ##training set from RDP classifier website\n",
        "\n",
        "sequences = []\n",
        "seq_ids = []\n",
        "Classification = []\n",
        "seq_dict = {}\n",
        "with open(input_file) as f:\n",
        "    for record in SeqIO.parse(f, 'fasta'):\n",
        "      Seq_ID = record.id\n",
        "      line = record.description\n",
        "      rank = re.split(r'\\t+', line)[1]\n",
        "      classes = re.split(r';+', rank)[1:]\n",
        "      seq_ids.append(Seq_ID)\n",
        "      Classification.append(classes)\n",
        "      seq_dict[Seq_ID] = record.seq\n",
        "      sequences.append(record.seq)\n",
        "      seq_ids.append(record.id)"
      ]
    },
    {
      "cell_type": "code",
      "execution_count": null,
      "metadata": {
        "id": "zk8C0Af7feGa"
      },
      "outputs": [],
      "source": [
        "##create taxonomy file\n",
        "df = pd.DataFrame()\n",
        "df['Seq_ID'] = Seq_ids\n",
        "df['Classification'] = Classification\n",
        "df_expanded = df['Classification'].apply(pd.Series)\n",
        "df = df.drop(['Classification'], axis = 1)\n",
        "df_taxonomy = pd.concat([df, df_expanded], axis = 1)"
      ]
    },
    {
      "cell_type": "code",
      "execution_count": null,
      "metadata": {
        "id": "qKKLqB6xi-an"
      },
      "outputs": [],
      "source": [
        "##data cleaning and resizing\n",
        "df_taxonomy.drop([1, 6, 7], axis = 1, inplace=True)\n",
        "df_taxonomy.columns = ['Seq_ID', 'Phylum', 'Class', 'Order', 'Family', 'Genus']\n",
        "df = df_taxonomy[df_taxonomy['Phylum'].isin(['Actinobacteria','Proteobacteria','Acidobacteria', 'Firmicutes', 'Tenericutes', 'Cyanobacteria/Chloroplast', 'Bacteroidetes', 'Verrucomicrobia', 'Chloroflexi','Nitrospirae', 'Gemmatimonadetes', 'Planctomycetes'])]\n",
        "df.to_csv('/content/gdrive/MyDrive/Datasets/Bac_16s_data/train_tax.csv', index = None)"
      ]
    },
    {
      "cell_type": "code",
      "execution_count": null,
      "metadata": {
        "id": "vOtq9TAtFVSR"
      },
      "outputs": [],
      "source": [
        "#import taxonomy file\n",
        "df1 = pd.read_csv('/content/gdrive/MyDrive/Datasets/Bac_16s_data/train_tax.csv')"
      ]
    },
    {
      "cell_type": "code",
      "execution_count": null,
      "metadata": {
        "colab": {
          "base_uri": "https://localhost:8080/",
          "height": 206
        },
        "id": "r7VzxJY_FapR",
        "outputId": "e2d0615e-2bf1-4d7e-f006-35426147f0bf"
      },
      "outputs": [
        {
          "data": {
            "text/html": [
              "\n",
              "  <div id=\"df-40986c34-9a6e-416e-84c0-6fcb72bbd43c\">\n",
              "    <div class=\"colab-df-container\">\n",
              "      <div>\n",
              "<style scoped>\n",
              "    .dataframe tbody tr th:only-of-type {\n",
              "        vertical-align: middle;\n",
              "    }\n",
              "\n",
              "    .dataframe tbody tr th {\n",
              "        vertical-align: top;\n",
              "    }\n",
              "\n",
              "    .dataframe thead th {\n",
              "        text-align: right;\n",
              "    }\n",
              "</style>\n",
              "<table border=\"1\" class=\"dataframe\">\n",
              "  <thead>\n",
              "    <tr style=\"text-align: right;\">\n",
              "      <th></th>\n",
              "      <th>Sequences</th>\n",
              "    </tr>\n",
              "  </thead>\n",
              "  <tbody>\n",
              "    <tr>\n",
              "      <th>0</th>\n",
              "      <td>GAACGCTGGCGGCGTGCTTAACACATGCAAGTCGAACGGAAAGGTC...</td>\n",
              "    </tr>\n",
              "    <tr>\n",
              "      <th>1</th>\n",
              "      <td>GTTTGATCCTGGCTCAGATTGAACGCTGGCGGCAGGCCTAACACAT...</td>\n",
              "    </tr>\n",
              "    <tr>\n",
              "      <th>2</th>\n",
              "      <td>TAGAGTTTGATCCTGGCTCAGGACGAACGCTGGCGGCGTGCTTAAC...</td>\n",
              "    </tr>\n",
              "    <tr>\n",
              "      <th>3</th>\n",
              "      <td>AAGAGTTTGATCCTGGCTCAGAGCGAACGCTGGCGGCATGCTTAAC...</td>\n",
              "    </tr>\n",
              "    <tr>\n",
              "      <th>4</th>\n",
              "      <td>ATTGAACGCTGGCGGCATGCCTTACACATGCAAGTCGAACGGTAAC...</td>\n",
              "    </tr>\n",
              "  </tbody>\n",
              "</table>\n",
              "</div>\n",
              "      <button class=\"colab-df-convert\" onclick=\"convertToInteractive('df-40986c34-9a6e-416e-84c0-6fcb72bbd43c')\"\n",
              "              title=\"Convert this dataframe to an interactive table.\"\n",
              "              style=\"display:none;\">\n",
              "        \n",
              "  <svg xmlns=\"http://www.w3.org/2000/svg\" height=\"24px\"viewBox=\"0 0 24 24\"\n",
              "       width=\"24px\">\n",
              "    <path d=\"M0 0h24v24H0V0z\" fill=\"none\"/>\n",
              "    <path d=\"M18.56 5.44l.94 2.06.94-2.06 2.06-.94-2.06-.94-.94-2.06-.94 2.06-2.06.94zm-11 1L8.5 8.5l.94-2.06 2.06-.94-2.06-.94L8.5 2.5l-.94 2.06-2.06.94zm10 10l.94 2.06.94-2.06 2.06-.94-2.06-.94-.94-2.06-.94 2.06-2.06.94z\"/><path d=\"M17.41 7.96l-1.37-1.37c-.4-.4-.92-.59-1.43-.59-.52 0-1.04.2-1.43.59L10.3 9.45l-7.72 7.72c-.78.78-.78 2.05 0 2.83L4 21.41c.39.39.9.59 1.41.59.51 0 1.02-.2 1.41-.59l7.78-7.78 2.81-2.81c.8-.78.8-2.07 0-2.86zM5.41 20L4 18.59l7.72-7.72 1.47 1.35L5.41 20z\"/>\n",
              "  </svg>\n",
              "      </button>\n",
              "      \n",
              "  <style>\n",
              "    .colab-df-container {\n",
              "      display:flex;\n",
              "      flex-wrap:wrap;\n",
              "      gap: 12px;\n",
              "    }\n",
              "\n",
              "    .colab-df-convert {\n",
              "      background-color: #E8F0FE;\n",
              "      border: none;\n",
              "      border-radius: 50%;\n",
              "      cursor: pointer;\n",
              "      display: none;\n",
              "      fill: #1967D2;\n",
              "      height: 32px;\n",
              "      padding: 0 0 0 0;\n",
              "      width: 32px;\n",
              "    }\n",
              "\n",
              "    .colab-df-convert:hover {\n",
              "      background-color: #E2EBFA;\n",
              "      box-shadow: 0px 1px 2px rgba(60, 64, 67, 0.3), 0px 1px 3px 1px rgba(60, 64, 67, 0.15);\n",
              "      fill: #174EA6;\n",
              "    }\n",
              "\n",
              "    [theme=dark] .colab-df-convert {\n",
              "      background-color: #3B4455;\n",
              "      fill: #D2E3FC;\n",
              "    }\n",
              "\n",
              "    [theme=dark] .colab-df-convert:hover {\n",
              "      background-color: #434B5C;\n",
              "      box-shadow: 0px 1px 3px 1px rgba(0, 0, 0, 0.15);\n",
              "      filter: drop-shadow(0px 1px 2px rgba(0, 0, 0, 0.3));\n",
              "      fill: #FFFFFF;\n",
              "    }\n",
              "  </style>\n",
              "\n",
              "      <script>\n",
              "        const buttonEl =\n",
              "          document.querySelector('#df-40986c34-9a6e-416e-84c0-6fcb72bbd43c button.colab-df-convert');\n",
              "        buttonEl.style.display =\n",
              "          google.colab.kernel.accessAllowed ? 'block' : 'none';\n",
              "\n",
              "        async function convertToInteractive(key) {\n",
              "          const element = document.querySelector('#df-40986c34-9a6e-416e-84c0-6fcb72bbd43c');\n",
              "          const dataTable =\n",
              "            await google.colab.kernel.invokeFunction('convertToInteractive',\n",
              "                                                     [key], {});\n",
              "          if (!dataTable) return;\n",
              "\n",
              "          const docLinkHtml = 'Like what you see? Visit the ' +\n",
              "            '<a target=\"_blank\" href=https://colab.research.google.com/notebooks/data_table.ipynb>data table notebook</a>'\n",
              "            + ' to learn more about interactive tables.';\n",
              "          element.innerHTML = '';\n",
              "          dataTable['output_type'] = 'display_data';\n",
              "          await google.colab.output.renderOutput(dataTable, element);\n",
              "          const docLink = document.createElement('div');\n",
              "          docLink.innerHTML = docLinkHtml;\n",
              "          element.appendChild(docLink);\n",
              "        }\n",
              "      </script>\n",
              "    </div>\n",
              "  </div>\n",
              "  "
            ],
            "text/plain": [
              "                                           Sequences\n",
              "0  GAACGCTGGCGGCGTGCTTAACACATGCAAGTCGAACGGAAAGGTC...\n",
              "1  GTTTGATCCTGGCTCAGATTGAACGCTGGCGGCAGGCCTAACACAT...\n",
              "2  TAGAGTTTGATCCTGGCTCAGGACGAACGCTGGCGGCGTGCTTAAC...\n",
              "3  AAGAGTTTGATCCTGGCTCAGAGCGAACGCTGGCGGCATGCTTAAC...\n",
              "4  ATTGAACGCTGGCGGCATGCCTTACACATGCAAGTCGAACGGTAAC..."
            ]
          },
          "execution_count": 8,
          "metadata": {},
          "output_type": "execute_result"
        }
      ],
      "source": [
        "# create dataframe of only the sequences to be converted to k-mers embedding matrix\n",
        "seq_list = []\n",
        "for i in range(len(df1)):\n",
        "  sequence = seq_dict[df1.Seq_ID[i]]\n",
        "  seq_list.append((str(sequence)).upper())\n",
        "seq_df = pd.DataFrame(seq_list)\n",
        "seq_df.columns = ['Sequences']\n",
        "seq_df.head()"
      ]
    },
    {
      "cell_type": "code",
      "execution_count": null,
      "metadata": {
        "colab": {
          "base_uri": "https://localhost:8080/",
          "height": 206
        },
        "id": "acx11m74Fhho",
        "outputId": "8020ef0a-8c1d-4c44-e69a-847d0675ced6"
      },
      "outputs": [
        {
          "data": {
            "text/html": [
              "\n",
              "  <div id=\"df-7e318e5b-158f-474d-acc0-ff7e8a94607e\">\n",
              "    <div class=\"colab-df-container\">\n",
              "      <div>\n",
              "<style scoped>\n",
              "    .dataframe tbody tr th:only-of-type {\n",
              "        vertical-align: middle;\n",
              "    }\n",
              "\n",
              "    .dataframe tbody tr th {\n",
              "        vertical-align: top;\n",
              "    }\n",
              "\n",
              "    .dataframe thead th {\n",
              "        text-align: right;\n",
              "    }\n",
              "</style>\n",
              "<table border=\"1\" class=\"dataframe\">\n",
              "  <thead>\n",
              "    <tr style=\"text-align: right;\">\n",
              "      <th></th>\n",
              "      <th>Kmers</th>\n",
              "    </tr>\n",
              "  </thead>\n",
              "  <tbody>\n",
              "    <tr>\n",
              "      <th>0</th>\n",
              "      <td>[GAACGCTGGCGG, AACGCTGGCGGC, ACGCTGGCGGCG, CGC...</td>\n",
              "    </tr>\n",
              "    <tr>\n",
              "      <th>1</th>\n",
              "      <td>[GTTTGATCCTGG, TTTGATCCTGGC, TTGATCCTGGCT, TGA...</td>\n",
              "    </tr>\n",
              "    <tr>\n",
              "      <th>2</th>\n",
              "      <td>[TAGAGTTTGATC, AGAGTTTGATCC, GAGTTTGATCCT, AGT...</td>\n",
              "    </tr>\n",
              "    <tr>\n",
              "      <th>3</th>\n",
              "      <td>[AAGAGTTTGATC, AGAGTTTGATCC, GAGTTTGATCCT, AGT...</td>\n",
              "    </tr>\n",
              "    <tr>\n",
              "      <th>4</th>\n",
              "      <td>[ATTGAACGCTGG, TTGAACGCTGGC, TGAACGCTGGCG, GAA...</td>\n",
              "    </tr>\n",
              "  </tbody>\n",
              "</table>\n",
              "</div>\n",
              "      <button class=\"colab-df-convert\" onclick=\"convertToInteractive('df-7e318e5b-158f-474d-acc0-ff7e8a94607e')\"\n",
              "              title=\"Convert this dataframe to an interactive table.\"\n",
              "              style=\"display:none;\">\n",
              "        \n",
              "  <svg xmlns=\"http://www.w3.org/2000/svg\" height=\"24px\"viewBox=\"0 0 24 24\"\n",
              "       width=\"24px\">\n",
              "    <path d=\"M0 0h24v24H0V0z\" fill=\"none\"/>\n",
              "    <path d=\"M18.56 5.44l.94 2.06.94-2.06 2.06-.94-2.06-.94-.94-2.06-.94 2.06-2.06.94zm-11 1L8.5 8.5l.94-2.06 2.06-.94-2.06-.94L8.5 2.5l-.94 2.06-2.06.94zm10 10l.94 2.06.94-2.06 2.06-.94-2.06-.94-.94-2.06-.94 2.06-2.06.94z\"/><path d=\"M17.41 7.96l-1.37-1.37c-.4-.4-.92-.59-1.43-.59-.52 0-1.04.2-1.43.59L10.3 9.45l-7.72 7.72c-.78.78-.78 2.05 0 2.83L4 21.41c.39.39.9.59 1.41.59.51 0 1.02-.2 1.41-.59l7.78-7.78 2.81-2.81c.8-.78.8-2.07 0-2.86zM5.41 20L4 18.59l7.72-7.72 1.47 1.35L5.41 20z\"/>\n",
              "  </svg>\n",
              "      </button>\n",
              "      \n",
              "  <style>\n",
              "    .colab-df-container {\n",
              "      display:flex;\n",
              "      flex-wrap:wrap;\n",
              "      gap: 12px;\n",
              "    }\n",
              "\n",
              "    .colab-df-convert {\n",
              "      background-color: #E8F0FE;\n",
              "      border: none;\n",
              "      border-radius: 50%;\n",
              "      cursor: pointer;\n",
              "      display: none;\n",
              "      fill: #1967D2;\n",
              "      height: 32px;\n",
              "      padding: 0 0 0 0;\n",
              "      width: 32px;\n",
              "    }\n",
              "\n",
              "    .colab-df-convert:hover {\n",
              "      background-color: #E2EBFA;\n",
              "      box-shadow: 0px 1px 2px rgba(60, 64, 67, 0.3), 0px 1px 3px 1px rgba(60, 64, 67, 0.15);\n",
              "      fill: #174EA6;\n",
              "    }\n",
              "\n",
              "    [theme=dark] .colab-df-convert {\n",
              "      background-color: #3B4455;\n",
              "      fill: #D2E3FC;\n",
              "    }\n",
              "\n",
              "    [theme=dark] .colab-df-convert:hover {\n",
              "      background-color: #434B5C;\n",
              "      box-shadow: 0px 1px 3px 1px rgba(0, 0, 0, 0.15);\n",
              "      filter: drop-shadow(0px 1px 2px rgba(0, 0, 0, 0.3));\n",
              "      fill: #FFFFFF;\n",
              "    }\n",
              "  </style>\n",
              "\n",
              "      <script>\n",
              "        const buttonEl =\n",
              "          document.querySelector('#df-7e318e5b-158f-474d-acc0-ff7e8a94607e button.colab-df-convert');\n",
              "        buttonEl.style.display =\n",
              "          google.colab.kernel.accessAllowed ? 'block' : 'none';\n",
              "\n",
              "        async function convertToInteractive(key) {\n",
              "          const element = document.querySelector('#df-7e318e5b-158f-474d-acc0-ff7e8a94607e');\n",
              "          const dataTable =\n",
              "            await google.colab.kernel.invokeFunction('convertToInteractive',\n",
              "                                                     [key], {});\n",
              "          if (!dataTable) return;\n",
              "\n",
              "          const docLinkHtml = 'Like what you see? Visit the ' +\n",
              "            '<a target=\"_blank\" href=https://colab.research.google.com/notebooks/data_table.ipynb>data table notebook</a>'\n",
              "            + ' to learn more about interactive tables.';\n",
              "          element.innerHTML = '';\n",
              "          dataTable['output_type'] = 'display_data';\n",
              "          await google.colab.output.renderOutput(dataTable, element);\n",
              "          const docLink = document.createElement('div');\n",
              "          docLink.innerHTML = docLinkHtml;\n",
              "          element.appendChild(docLink);\n",
              "        }\n",
              "      </script>\n",
              "    </div>\n",
              "  </div>\n",
              "  "
            ],
            "text/plain": [
              "                                               Kmers\n",
              "0  [GAACGCTGGCGG, AACGCTGGCGGC, ACGCTGGCGGCG, CGC...\n",
              "1  [GTTTGATCCTGG, TTTGATCCTGGC, TTGATCCTGGCT, TGA...\n",
              "2  [TAGAGTTTGATC, AGAGTTTGATCC, GAGTTTGATCCT, AGT...\n",
              "3  [AAGAGTTTGATC, AGAGTTTGATCC, GAGTTTGATCCT, AGT...\n",
              "4  [ATTGAACGCTGG, TTGAACGCTGGC, TGAACGCTGGCG, GAA..."
            ]
          },
          "execution_count": 9,
          "metadata": {},
          "output_type": "execute_result"
        }
      ],
      "source": [
        "#generate k-mers from the sequence file of each sequnence \n",
        "def getKmers(sequence, size=12):\n",
        "    return [sequence[x:x+size] for x in range(len(sequence) - size + 1)]\n",
        "\n",
        "seq_df['Kmers'] = seq_df.apply(lambda x: getKmers(x['Sequences']), axis = 1)\n",
        "seq_df.drop('Sequences', axis=1, inplace = True)\n",
        "seq_df.head()\n",
        "#seq_df.to_csv(r'/content/gdrive/MyDrive/Datasets/Bac_16s_data/seq_kmers.csv', index = None) #save the kmers file"
      ]
    }
  ]
}